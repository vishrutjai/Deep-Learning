{
  "nbformat": 4,
  "nbformat_minor": 0,
  "metadata": {
    "colab": {
      "name": "DL Lab Test.ipynb",
      "provenance": [],
      "collapsed_sections": [],
      "mount_file_id": "1e6K-qOi8N_9H26ksD0SEhW-k7OCKON8_",
      "authorship_tag": "ABX9TyPVPgFlbQx0y4RnV7ZcF17P",
      "include_colab_link": true
    },
    "kernelspec": {
      "name": "python3",
      "display_name": "Python 3"
    },
    "accelerator": "GPU"
  },
  "cells": [
    {
      "cell_type": "markdown",
      "metadata": {
        "id": "view-in-github",
        "colab_type": "text"
      },
      "source": [
        "<a href=\"https://colab.research.google.com/github/vishrutjai/Deep-Learning/blob/master/DL_Lab_Test.ipynb\" target=\"_parent\"><img src=\"https://colab.research.google.com/assets/colab-badge.svg\" alt=\"Open In Colab\"/></a>"
      ]
    },
    {
      "cell_type": "code",
      "metadata": {
        "id": "ldmCN5qfL-WJ",
        "colab_type": "code",
        "colab": {}
      },
      "source": [
        "from PIL import Image #import Python Image Library\n",
        "import numpy as np\n",
        "import os\n",
        "import glob\n",
        "import re\n",
        "import cv2\n",
        "import keras\n",
        "from keras.models import Sequential\n",
        "from keras.layers import Dense, Dropout, Activation, Flatten\n",
        "from keras.layers import Conv2D, MaxPooling2D\n",
        "from keras.utils import np_utils\n",
        "from keras import backend as K\n",
        "from sklearn.model_selection import train_test_split\n",
        "\n",
        "os.chdir('/content/drive/My Drive')"
      ],
      "execution_count": 0,
      "outputs": []
    },
    {
      "cell_type": "code",
      "metadata": {
        "id": "VVw1nvT8eIBZ",
        "colab_type": "code",
        "colab": {}
      },
      "source": [
        "path = os.path.abspath('.cnn.py')\n",
        "path = re.sub('[a-zA-Z\\s._]+$', '', path)\n",
        "dirs = os.listdir(path+'Images/')\n",
        "im_arr = []\n",
        "lb_arr = []\n",
        "X = []\n",
        "for i in dirs:\n",
        "    count = 0\n",
        "    for pic in glob.glob(path+'Images/'+i+'/*.tif'):\n",
        "        im = cv2.imread(pic)\n",
        "        im = cv2.resize(im,(256,256))\n",
        "        im = np.array(im)\n",
        "        count = count + 1\n",
        "        X.append(im)\n",
        "        if(count == 3):\n",
        "            im_arr.append({str(i):im})\n",
        "        lb_arr.append(i)\n",
        "\n",
        "X = np.array(X)\n",
        "y = np.array(lb_arr)"
      ],
      "execution_count": 0,
      "outputs": []
    },
    {
      "cell_type": "code",
      "metadata": {
        "id": "GQxl542ievqy",
        "colab_type": "code",
        "colab": {}
      },
      "source": [
        "X_train, X_test, y_train, y_test = train_test_split(X, y, test_size=0.1, random_state=42)"
      ],
      "execution_count": 0,
      "outputs": []
    },
    {
      "cell_type": "code",
      "metadata": {
        "id": "W5HTQkbZhKNC",
        "colab_type": "code",
        "colab": {}
      },
      "source": [
        "from sklearn import preprocessing \n",
        "  \n",
        "label_encoder = preprocessing.LabelEncoder() \n",
        "  \n",
        "# Encode labels in column 'species'. \n",
        "y_test = label_encoder.fit_transform(y_test)\n",
        "y_train = label_encoder.fit_transform(y_train) \n",
        "\n"
      ],
      "execution_count": 0,
      "outputs": []
    },
    {
      "cell_type": "code",
      "metadata": {
        "id": "Jq8PseN_iRHm",
        "colab_type": "code",
        "colab": {
          "base_uri": "https://localhost:8080/",
          "height": 34
        },
        "outputId": "ff0e2d65-d0a7-462e-ab68-86a5cb622d01"
      },
      "source": [
        "y_train"
      ],
      "execution_count": 52,
      "outputs": [
        {
          "output_type": "execute_result",
          "data": {
            "text/plain": [
              "array([18, 10,  4, ...,  5,  8,  0])"
            ]
          },
          "metadata": {
            "tags": []
          },
          "execution_count": 52
        }
      ]
    },
    {
      "cell_type": "code",
      "metadata": {
        "id": "eS5trChAfEts",
        "colab_type": "code",
        "colab": {}
      },
      "source": [
        "X_train = X_train.astype('float32')\n",
        "X_test = X_test.astype('float32')\n",
        "X_train /= 255\n",
        "X_test /= 255\n",
        "\n",
        "y_train = keras.utils.to_categorical(y_train, 21)\n",
        "y_test = keras.utils.to_categorical(y_test, 21)"
      ],
      "execution_count": 0,
      "outputs": []
    },
    {
      "cell_type": "code",
      "metadata": {
        "id": "4a6n-bXHibDo",
        "colab_type": "code",
        "colab": {
          "base_uri": "https://localhost:8080/",
          "height": 1000
        },
        "outputId": "930bfcac-0e7f-4531-bde0-1ea3622f463f"
      },
      "source": [
        "from keras.models import Sequential\n",
        "from keras.layers import Dense, Dropout, Activation, Flatten\n",
        "from keras.layers import Conv2D, MaxPooling2D\n",
        "from keras.utils import np_utils\n",
        "from keras import backend as K\n",
        "from keras.preprocessing.image import ImageDataGenerator\n",
        "\n",
        "from keras.optimizers import SGD\n",
        "#initializer = keras.initializers.lecun_uniform(seed=None)\n",
        "\n",
        "model = Sequential() #model = sequential \n",
        "model.add(Conv2D(128, kernel_size=(3, 3),activation='relu',input_shape=(256,256,3)))\n",
        "model.add(MaxPooling2D(pool_size=(2,2)))\n",
        "model.add(Conv2D(64, (3, 3), activation='relu'))\n",
        "model.add(MaxPooling2D(pool_size=(2,2)))\n",
        "model.add(Conv2D(64, (3, 3), activation='relu'))\n",
        "model.add(MaxPooling2D(pool_size=(2,2)))\n",
        "model.add(Dropout(0.25))\n",
        "model.add(Flatten()) #make layer flatten\n",
        "\n",
        "model.add(Dense(128, activation='relu'))\n",
        "model.add(Dropout(0.5))\n",
        "model.add(Dense(21, activation='softmax'))\n",
        "epochs = 25\n",
        "\n",
        "model.compile(loss='categorical_crossentropy', optimizer='adam', metrics=['accuracy'])\n",
        "print(model.summary())\n",
        "\n",
        "'''datagen = ImageDataGenerator(\n",
        "    featurewise_center=True,\n",
        "    featurewise_std_normalization=True,\n",
        "    rotation_range=20,\n",
        "    width_shift_range=0.2,\n",
        "    height_shift_range=0.2,\n",
        "    horizontal_flip=True)\n",
        "\n",
        "datagen.fit(X_train)\n",
        "\n",
        "# fits the model on batches with real-time data augmentation:\n",
        "model.fit_generator(datagen.flow(X_train, y_train),epochs=epochs,verbose=1, validation_data=datagen.flow(X_test, y_test))\n",
        "'''\n",
        "history = model.fit(X_train, y_train, validation_data=(X_test, y_test), epochs=epochs, batch_size=64)\n",
        "scores = model.evaluate(X_test, y_test, verbose=0)\n",
        "print(\"Accuracy: %.2f%%\" % (scores[1]*100))"
      ],
      "execution_count": 58,
      "outputs": [
        {
          "output_type": "stream",
          "text": [
            "Model: \"sequential_18\"\n",
            "_________________________________________________________________\n",
            "Layer (type)                 Output Shape              Param #   \n",
            "=================================================================\n",
            "conv2d_42 (Conv2D)           (None, 254, 254, 128)     3584      \n",
            "_________________________________________________________________\n",
            "max_pooling2d_42 (MaxPooling (None, 127, 127, 128)     0         \n",
            "_________________________________________________________________\n",
            "conv2d_43 (Conv2D)           (None, 125, 125, 64)      73792     \n",
            "_________________________________________________________________\n",
            "max_pooling2d_43 (MaxPooling (None, 62, 62, 64)        0         \n",
            "_________________________________________________________________\n",
            "conv2d_44 (Conv2D)           (None, 60, 60, 64)        36928     \n",
            "_________________________________________________________________\n",
            "max_pooling2d_44 (MaxPooling (None, 30, 30, 64)        0         \n",
            "_________________________________________________________________\n",
            "dropout_35 (Dropout)         (None, 30, 30, 64)        0         \n",
            "_________________________________________________________________\n",
            "flatten_18 (Flatten)         (None, 57600)             0         \n",
            "_________________________________________________________________\n",
            "dense_35 (Dense)             (None, 128)               7372928   \n",
            "_________________________________________________________________\n",
            "dropout_36 (Dropout)         (None, 128)               0         \n",
            "_________________________________________________________________\n",
            "dense_36 (Dense)             (None, 21)                2709      \n",
            "=================================================================\n",
            "Total params: 7,489,941\n",
            "Trainable params: 7,489,941\n",
            "Non-trainable params: 0\n",
            "_________________________________________________________________\n",
            "None\n",
            "Train on 1890 samples, validate on 210 samples\n",
            "Epoch 1/25\n",
            "1890/1890 [==============================] - 8s 4ms/step - loss: 3.0802 - acc: 0.0519 - val_loss: 2.9803 - val_acc: 0.0714\n",
            "Epoch 2/25\n",
            "1890/1890 [==============================] - 5s 3ms/step - loss: 2.9328 - acc: 0.0889 - val_loss: 2.8181 - val_acc: 0.1429\n",
            "Epoch 3/25\n",
            "1890/1890 [==============================] - 5s 3ms/step - loss: 2.7104 - acc: 0.1508 - val_loss: 2.6953 - val_acc: 0.1571\n",
            "Epoch 4/25\n",
            "1890/1890 [==============================] - 5s 3ms/step - loss: 2.5962 - acc: 0.2053 - val_loss: 2.6285 - val_acc: 0.2190\n",
            "Epoch 5/25\n",
            "1890/1890 [==============================] - 5s 3ms/step - loss: 2.2448 - acc: 0.3048 - val_loss: 2.2372 - val_acc: 0.3857\n",
            "Epoch 6/25\n",
            "1890/1890 [==============================] - 5s 3ms/step - loss: 1.8151 - acc: 0.4249 - val_loss: 2.1615 - val_acc: 0.3952\n",
            "Epoch 7/25\n",
            "1890/1890 [==============================] - 5s 3ms/step - loss: 1.5846 - acc: 0.5101 - val_loss: 2.1354 - val_acc: 0.4286\n",
            "Epoch 8/25\n",
            "1890/1890 [==============================] - 5s 3ms/step - loss: 1.1909 - acc: 0.6291 - val_loss: 2.3336 - val_acc: 0.4333\n",
            "Epoch 9/25\n",
            "1890/1890 [==============================] - 5s 3ms/step - loss: 1.0486 - acc: 0.6704 - val_loss: 2.4138 - val_acc: 0.4952\n",
            "Epoch 10/25\n",
            "1890/1890 [==============================] - 5s 3ms/step - loss: 0.9240 - acc: 0.7185 - val_loss: 2.2004 - val_acc: 0.5000\n",
            "Epoch 11/25\n",
            "1890/1890 [==============================] - 5s 3ms/step - loss: 0.7213 - acc: 0.7661 - val_loss: 2.2668 - val_acc: 0.4667\n",
            "Epoch 12/25\n",
            "1890/1890 [==============================] - 5s 3ms/step - loss: 0.6436 - acc: 0.7910 - val_loss: 2.6546 - val_acc: 0.4714\n",
            "Epoch 13/25\n",
            "1890/1890 [==============================] - 5s 3ms/step - loss: 0.5642 - acc: 0.8063 - val_loss: 2.4883 - val_acc: 0.4905\n",
            "Epoch 14/25\n",
            "1890/1890 [==============================] - 5s 3ms/step - loss: 0.5114 - acc: 0.8349 - val_loss: 2.3427 - val_acc: 0.5238\n",
            "Epoch 15/25\n",
            "1890/1890 [==============================] - 5s 3ms/step - loss: 0.5047 - acc: 0.8392 - val_loss: 2.1947 - val_acc: 0.5333\n",
            "Epoch 16/25\n",
            "1890/1890 [==============================] - 5s 3ms/step - loss: 0.4715 - acc: 0.8561 - val_loss: 2.4771 - val_acc: 0.4810\n",
            "Epoch 17/25\n",
            "1890/1890 [==============================] - 5s 3ms/step - loss: 0.3882 - acc: 0.8783 - val_loss: 2.3574 - val_acc: 0.5000\n",
            "Epoch 18/25\n",
            "1890/1890 [==============================] - 5s 3ms/step - loss: 0.3569 - acc: 0.8868 - val_loss: 2.3678 - val_acc: 0.5476\n",
            "Epoch 19/25\n",
            "1890/1890 [==============================] - 5s 3ms/step - loss: 0.3314 - acc: 0.8926 - val_loss: 2.3921 - val_acc: 0.5381\n",
            "Epoch 20/25\n",
            "1890/1890 [==============================] - 5s 3ms/step - loss: 0.3365 - acc: 0.8958 - val_loss: 2.3172 - val_acc: 0.5619\n",
            "Epoch 21/25\n",
            "1890/1890 [==============================] - 5s 3ms/step - loss: 0.2923 - acc: 0.9111 - val_loss: 2.4799 - val_acc: 0.5238\n",
            "Epoch 22/25\n",
            "1890/1890 [==============================] - 5s 3ms/step - loss: 0.2914 - acc: 0.9138 - val_loss: 2.3343 - val_acc: 0.5381\n",
            "Epoch 23/25\n",
            "1890/1890 [==============================] - 5s 3ms/step - loss: 0.2401 - acc: 0.9254 - val_loss: 2.4878 - val_acc: 0.5524\n",
            "Epoch 24/25\n",
            "1890/1890 [==============================] - 5s 3ms/step - loss: 0.2471 - acc: 0.9217 - val_loss: 2.5097 - val_acc: 0.5190\n",
            "Epoch 25/25\n",
            "1890/1890 [==============================] - 5s 3ms/step - loss: 0.2462 - acc: 0.9243 - val_loss: 2.4431 - val_acc: 0.5286\n",
            "Accuracy: 52.86%\n"
          ],
          "name": "stdout"
        }
      ]
    },
    {
      "cell_type": "code",
      "metadata": {
        "id": "irEMW6KQzENw",
        "colab_type": "code",
        "colab": {
          "base_uri": "https://localhost:8080/",
          "height": 1000
        },
        "outputId": "ec86d77e-56ec-461d-8cb2-43c1818964eb"
      },
      "source": [
        "from IPython.display import SVG\n",
        "from keras.utils.vis_utils import model_to_dot\n",
        "\n",
        "SVG(model_to_dot(model).create(prog='dot', format='svg'))"
      ],
      "execution_count": 59,
      "outputs": [
        {
          "output_type": "execute_result",
          "data": {
            "text/plain": [
              "<IPython.core.display.SVG object>"
            ],
            "image/svg+xml": "<svg height=\"1131pt\" viewBox=\"0.00 0.00 237.00 848.00\" width=\"316pt\" xmlns=\"http://www.w3.org/2000/svg\" xmlns:xlink=\"http://www.w3.org/1999/xlink\">\n<g class=\"graph\" id=\"graph0\" transform=\"scale(1.3333 1.3333) rotate(0) translate(4 844)\">\n<title>G</title>\n<polygon fill=\"#ffffff\" points=\"-4,4 -4,-844 233,-844 233,4 -4,4\" stroke=\"transparent\"/>\n<!-- 140708179432616 -->\n<g class=\"node\" id=\"node1\">\n<title>140708179432616</title>\n<polygon fill=\"none\" points=\"19,-803.5 19,-839.5 210,-839.5 210,-803.5 19,-803.5\" stroke=\"#000000\"/>\n<text fill=\"#000000\" font-family=\"Times,serif\" font-size=\"14.00\" text-anchor=\"middle\" x=\"114.5\" y=\"-817.8\">conv2d_42_input: InputLayer</text>\n</g>\n<!-- 140708179432168 -->\n<g class=\"node\" id=\"node2\">\n<title>140708179432168</title>\n<polygon fill=\"none\" points=\"44.5,-730.5 44.5,-766.5 184.5,-766.5 184.5,-730.5 44.5,-730.5\" stroke=\"#000000\"/>\n<text fill=\"#000000\" font-family=\"Times,serif\" font-size=\"14.00\" text-anchor=\"middle\" x=\"114.5\" y=\"-744.8\">conv2d_42: Conv2D</text>\n</g>\n<!-- 140708179432616&#45;&gt;140708179432168 -->\n<g class=\"edge\" id=\"edge1\">\n<title>140708179432616-&gt;140708179432168</title>\n<path d=\"M114.5,-803.4551C114.5,-795.3828 114.5,-785.6764 114.5,-776.6817\" fill=\"none\" stroke=\"#000000\"/>\n<polygon fill=\"#000000\" points=\"118.0001,-776.5903 114.5,-766.5904 111.0001,-776.5904 118.0001,-776.5903\" stroke=\"#000000\"/>\n</g>\n<!-- 140708179475032 -->\n<g class=\"node\" id=\"node3\">\n<title>140708179475032</title>\n<polygon fill=\"none\" points=\"0,-657.5 0,-693.5 229,-693.5 229,-657.5 0,-657.5\" stroke=\"#000000\"/>\n<text fill=\"#000000\" font-family=\"Times,serif\" font-size=\"14.00\" text-anchor=\"middle\" x=\"114.5\" y=\"-671.8\">max_pooling2d_42: MaxPooling2D</text>\n</g>\n<!-- 140708179432168&#45;&gt;140708179475032 -->\n<g class=\"edge\" id=\"edge2\">\n<title>140708179432168-&gt;140708179475032</title>\n<path d=\"M114.5,-730.4551C114.5,-722.3828 114.5,-712.6764 114.5,-703.6817\" fill=\"none\" stroke=\"#000000\"/>\n<polygon fill=\"#000000\" points=\"118.0001,-703.5903 114.5,-693.5904 111.0001,-703.5904 118.0001,-703.5903\" stroke=\"#000000\"/>\n</g>\n<!-- 140708179432224 -->\n<g class=\"node\" id=\"node4\">\n<title>140708179432224</title>\n<polygon fill=\"none\" points=\"44.5,-584.5 44.5,-620.5 184.5,-620.5 184.5,-584.5 44.5,-584.5\" stroke=\"#000000\"/>\n<text fill=\"#000000\" font-family=\"Times,serif\" font-size=\"14.00\" text-anchor=\"middle\" x=\"114.5\" y=\"-598.8\">conv2d_43: Conv2D</text>\n</g>\n<!-- 140708179475032&#45;&gt;140708179432224 -->\n<g class=\"edge\" id=\"edge3\">\n<title>140708179475032-&gt;140708179432224</title>\n<path d=\"M114.5,-657.4551C114.5,-649.3828 114.5,-639.6764 114.5,-630.6817\" fill=\"none\" stroke=\"#000000\"/>\n<polygon fill=\"#000000\" points=\"118.0001,-630.5903 114.5,-620.5904 111.0001,-630.5904 118.0001,-630.5903\" stroke=\"#000000\"/>\n</g>\n<!-- 140708220244824 -->\n<g class=\"node\" id=\"node5\">\n<title>140708220244824</title>\n<polygon fill=\"none\" points=\"0,-511.5 0,-547.5 229,-547.5 229,-511.5 0,-511.5\" stroke=\"#000000\"/>\n<text fill=\"#000000\" font-family=\"Times,serif\" font-size=\"14.00\" text-anchor=\"middle\" x=\"114.5\" y=\"-525.8\">max_pooling2d_43: MaxPooling2D</text>\n</g>\n<!-- 140708179432224&#45;&gt;140708220244824 -->\n<g class=\"edge\" id=\"edge4\">\n<title>140708179432224-&gt;140708220244824</title>\n<path d=\"M114.5,-584.4551C114.5,-576.3828 114.5,-566.6764 114.5,-557.6817\" fill=\"none\" stroke=\"#000000\"/>\n<polygon fill=\"#000000\" points=\"118.0001,-557.5903 114.5,-547.5904 111.0001,-557.5904 118.0001,-557.5903\" stroke=\"#000000\"/>\n</g>\n<!-- 140708179473688 -->\n<g class=\"node\" id=\"node6\">\n<title>140708179473688</title>\n<polygon fill=\"none\" points=\"44.5,-438.5 44.5,-474.5 184.5,-474.5 184.5,-438.5 44.5,-438.5\" stroke=\"#000000\"/>\n<text fill=\"#000000\" font-family=\"Times,serif\" font-size=\"14.00\" text-anchor=\"middle\" x=\"114.5\" y=\"-452.8\">conv2d_44: Conv2D</text>\n</g>\n<!-- 140708220244824&#45;&gt;140708179473688 -->\n<g class=\"edge\" id=\"edge5\">\n<title>140708220244824-&gt;140708179473688</title>\n<path d=\"M114.5,-511.4551C114.5,-503.3828 114.5,-493.6764 114.5,-484.6817\" fill=\"none\" stroke=\"#000000\"/>\n<polygon fill=\"#000000\" points=\"118.0001,-484.5903 114.5,-474.5904 111.0001,-484.5904 118.0001,-484.5903\" stroke=\"#000000\"/>\n</g>\n<!-- 140708220280504 -->\n<g class=\"node\" id=\"node7\">\n<title>140708220280504</title>\n<polygon fill=\"none\" points=\"0,-365.5 0,-401.5 229,-401.5 229,-365.5 0,-365.5\" stroke=\"#000000\"/>\n<text fill=\"#000000\" font-family=\"Times,serif\" font-size=\"14.00\" text-anchor=\"middle\" x=\"114.5\" y=\"-379.8\">max_pooling2d_44: MaxPooling2D</text>\n</g>\n<!-- 140708179473688&#45;&gt;140708220280504 -->\n<g class=\"edge\" id=\"edge6\">\n<title>140708179473688-&gt;140708220280504</title>\n<path d=\"M114.5,-438.4551C114.5,-430.3828 114.5,-420.6764 114.5,-411.6817\" fill=\"none\" stroke=\"#000000\"/>\n<polygon fill=\"#000000\" points=\"118.0001,-411.5903 114.5,-401.5904 111.0001,-411.5904 118.0001,-411.5903\" stroke=\"#000000\"/>\n</g>\n<!-- 140708220278208 -->\n<g class=\"node\" id=\"node8\">\n<title>140708220278208</title>\n<polygon fill=\"none\" points=\"44,-292.5 44,-328.5 185,-328.5 185,-292.5 44,-292.5\" stroke=\"#000000\"/>\n<text fill=\"#000000\" font-family=\"Times,serif\" font-size=\"14.00\" text-anchor=\"middle\" x=\"114.5\" y=\"-306.8\">dropout_35: Dropout</text>\n</g>\n<!-- 140708220280504&#45;&gt;140708220278208 -->\n<g class=\"edge\" id=\"edge7\">\n<title>140708220280504-&gt;140708220278208</title>\n<path d=\"M114.5,-365.4551C114.5,-357.3828 114.5,-347.6764 114.5,-338.6817\" fill=\"none\" stroke=\"#000000\"/>\n<polygon fill=\"#000000\" points=\"118.0001,-338.5903 114.5,-328.5904 111.0001,-338.5904 118.0001,-338.5903\" stroke=\"#000000\"/>\n</g>\n<!-- 140708220300032 -->\n<g class=\"node\" id=\"node9\">\n<title>140708220300032</title>\n<polygon fill=\"none\" points=\"54,-219.5 54,-255.5 175,-255.5 175,-219.5 54,-219.5\" stroke=\"#000000\"/>\n<text fill=\"#000000\" font-family=\"Times,serif\" font-size=\"14.00\" text-anchor=\"middle\" x=\"114.5\" y=\"-233.8\">flatten_18: Flatten</text>\n</g>\n<!-- 140708220278208&#45;&gt;140708220300032 -->\n<g class=\"edge\" id=\"edge8\">\n<title>140708220278208-&gt;140708220300032</title>\n<path d=\"M114.5,-292.4551C114.5,-284.3828 114.5,-274.6764 114.5,-265.6817\" fill=\"none\" stroke=\"#000000\"/>\n<polygon fill=\"#000000\" points=\"118.0001,-265.5903 114.5,-255.5904 111.0001,-265.5904 118.0001,-265.5903\" stroke=\"#000000\"/>\n</g>\n<!-- 140708220300872 -->\n<g class=\"node\" id=\"node10\">\n<title>140708220300872</title>\n<polygon fill=\"none\" points=\"57.5,-146.5 57.5,-182.5 171.5,-182.5 171.5,-146.5 57.5,-146.5\" stroke=\"#000000\"/>\n<text fill=\"#000000\" font-family=\"Times,serif\" font-size=\"14.00\" text-anchor=\"middle\" x=\"114.5\" y=\"-160.8\">dense_35: Dense</text>\n</g>\n<!-- 140708220300032&#45;&gt;140708220300872 -->\n<g class=\"edge\" id=\"edge9\">\n<title>140708220300032-&gt;140708220300872</title>\n<path d=\"M114.5,-219.4551C114.5,-211.3828 114.5,-201.6764 114.5,-192.6817\" fill=\"none\" stroke=\"#000000\"/>\n<polygon fill=\"#000000\" points=\"118.0001,-192.5903 114.5,-182.5904 111.0001,-192.5904 118.0001,-192.5903\" stroke=\"#000000\"/>\n</g>\n<!-- 140708220413208 -->\n<g class=\"node\" id=\"node11\">\n<title>140708220413208</title>\n<polygon fill=\"none\" points=\"44,-73.5 44,-109.5 185,-109.5 185,-73.5 44,-73.5\" stroke=\"#000000\"/>\n<text fill=\"#000000\" font-family=\"Times,serif\" font-size=\"14.00\" text-anchor=\"middle\" x=\"114.5\" y=\"-87.8\">dropout_36: Dropout</text>\n</g>\n<!-- 140708220300872&#45;&gt;140708220413208 -->\n<g class=\"edge\" id=\"edge10\">\n<title>140708220300872-&gt;140708220413208</title>\n<path d=\"M114.5,-146.4551C114.5,-138.3828 114.5,-128.6764 114.5,-119.6817\" fill=\"none\" stroke=\"#000000\"/>\n<polygon fill=\"#000000\" points=\"118.0001,-119.5903 114.5,-109.5904 111.0001,-119.5904 118.0001,-119.5903\" stroke=\"#000000\"/>\n</g>\n<!-- 140708220411976 -->\n<g class=\"node\" id=\"node12\">\n<title>140708220411976</title>\n<polygon fill=\"none\" points=\"57.5,-.5 57.5,-36.5 171.5,-36.5 171.5,-.5 57.5,-.5\" stroke=\"#000000\"/>\n<text fill=\"#000000\" font-family=\"Times,serif\" font-size=\"14.00\" text-anchor=\"middle\" x=\"114.5\" y=\"-14.8\">dense_36: Dense</text>\n</g>\n<!-- 140708220413208&#45;&gt;140708220411976 -->\n<g class=\"edge\" id=\"edge11\">\n<title>140708220413208-&gt;140708220411976</title>\n<path d=\"M114.5,-73.4551C114.5,-65.3828 114.5,-55.6764 114.5,-46.6817\" fill=\"none\" stroke=\"#000000\"/>\n<polygon fill=\"#000000\" points=\"118.0001,-46.5903 114.5,-36.5904 111.0001,-46.5904 118.0001,-46.5903\" stroke=\"#000000\"/>\n</g>\n</g>\n</svg>"
          },
          "metadata": {
            "tags": []
          },
          "execution_count": 59
        }
      ]
    },
    {
      "cell_type": "code",
      "metadata": {
        "id": "PiiS-PLD3Uoz",
        "colab_type": "code",
        "colab": {
          "base_uri": "https://localhost:8080/",
          "height": 573
        },
        "outputId": "744e2fae-efbb-4147-ca7a-29d5b4041708"
      },
      "source": [
        "import matplotlib.pyplot as plt\n",
        "# Plot training & validation accuracy values\n",
        "plt.plot(history.history['acc'])\n",
        "plt.plot(history.history['val_acc'])\n",
        "plt.title('Model accuracy')\n",
        "plt.ylabel('Accuracy')\n",
        "plt.xlabel('Epoch')\n",
        "plt.legend(['Train', 'Test'], loc='upper left')\n",
        "plt.show()\n",
        "\n",
        "# Plot training & validation loss values\n",
        "plt.plot(history.history['loss'])\n",
        "plt.plot(history.history['val_loss'])\n",
        "plt.title('Model loss')\n",
        "plt.ylabel('Loss')\n",
        "plt.xlabel('Epoch')\n",
        "plt.legend(['Train', 'Test'], loc='upper left')\n",
        "plt.show()"
      ],
      "execution_count": 60,
      "outputs": [
        {
          "output_type": "display_data",
          "data": {
            "image/png": "[encoded data removed]",
            "text/plain": [
              "<Figure size 432x288 with 1 Axes>"
            ]
          },
          "metadata": {
            "tags": []
          }
        },
        {
          "output_type": "display_data",
          "data": {
            "image/png": "[encoded data removed]",
            "text/plain": [
              "<Figure size 432x288 with 1 Axes>"
            ]
          },
          "metadata": {
            "tags": []
          }
        }
      ]
    }
  ]
}